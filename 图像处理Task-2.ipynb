{
 "cells": [
  {
   "cell_type": "markdown",
   "metadata": {},
   "source": [
    "# Task02 几何变换"
   ]
  },
  {
   "cell_type": "code",
   "execution_count": 29,
   "metadata": {},
   "outputs": [],
   "source": [
    "import numpy as np\n",
    "import cv2 as cv\n",
    "\n",
    "img = cv.imread('D:/Mechine_learning_data/lena512.bmp',0)\n",
    "rows,cols = img.shape\n",
    "#M = np.float32([[1,0,100],[0,1,50]])\n",
    "#dst = cv.warpAffine(img,M,(cols,rows))\n",
    "M = cv.getRotationMatrix2D(((cols-1)/2.0,(rows-1)/2.0),45,1)\n",
    "dst1 = cv.warpAffine(img,M,(cols,rows))\n",
    "cv.imshow('src',img)\n",
    "cv.imshow('img',dst1)\n",
    "\n",
    "cv.waitKey(0)\n",
    "cv.destroyAllWindows()"
   ]
  },
  {
   "cell_type": "code",
   "execution_count": null,
   "metadata": {},
   "outputs": [],
   "source": []
  }
 ],
 "metadata": {
  "kernelspec": {
   "display_name": "Python 3",
   "language": "python",
   "name": "python3"
  },
  "language_info": {
   "codemirror_mode": {
    "name": "ipython",
    "version": 3
   },
   "file_extension": ".py",
   "mimetype": "text/x-python",
   "name": "python",
   "nbconvert_exporter": "python",
   "pygments_lexer": "ipython3",
   "version": "3.6.10"
  }
 },
 "nbformat": 4,
 "nbformat_minor": 4
}
