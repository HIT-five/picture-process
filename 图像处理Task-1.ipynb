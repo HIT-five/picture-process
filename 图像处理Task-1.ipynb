{
 "cells": [
  {
   "cell_type": "code",
   "execution_count": 25,
   "metadata": {},
   "outputs": [],
   "source": [
    "import cv2\n"
   ]
  },
  {
   "cell_type": "code",
   "execution_count": 26,
   "metadata": {},
   "outputs": [
    {
     "name": "stdout",
     "output_type": "stream",
     "text": [
      "Original Dimensions: (512, 512)\n"
     ]
    }
   ],
   "source": [
    "img = cv2.imread('D:/Mechine_learning_data/lena512.bmp',cv2.IMREAD_GRAYSCALE)\n",
    "print('Original Dimensions:',img.shape)"
   ]
  },
  {
   "cell_type": "code",
   "execution_count": 27,
   "metadata": {},
   "outputs": [
    {
     "name": "stdout",
     "output_type": "stream",
     "text": [
      "Smaller_image_nearest: (256, 256)\n",
      "Smaller_image_linear: (256, 256)\n",
      "Bigger_image_neraest: (768, 768)\n",
      "Bigger_image_linear: (768, 768)\n",
      "Bigger_image_CUBIC: (768, 768)\n"
     ]
    }
   ],
   "source": [
    "img1 = cv2.resize(img,dsize=None,fx=0.5,fy=0.5,interpolation = cv2.INTER_NEAREST)\n",
    "img2 = cv2.resize(img,dsize=None,fx=0.5,fy=0.5,interpolation = cv2.INTER_LINEAR)\n",
    "img3 = cv2.resize(img,dsize=None,fx=1.5,fy=1.5,interpolation = cv2.INTER_NEAREST)\n",
    "img4 = cv2.resize(img,dsize=None,fx=1.5,fy=1.5,interpolation = cv2.INTER_LINEAR)\n",
    "img5 = cv2.resize(img,dsize=None,fx=1.5,fy=1.5,interpolation = cv2.INTER_CUBIC)\n",
    "print('Smaller_image_nearest:',img1.shape)\n",
    "print('Smaller_image_linear:',img2.shape)\n",
    "print('Bigger_image_neraest:',img3.shape)\n",
    "print('Bigger_image_linear:',img4.shape)\n",
    "print('Bigger_image_CUBIC:',img5.shape)"
   ]
  },
  {
   "cell_type": "code",
   "execution_count": 28,
   "metadata": {},
   "outputs": [],
   "source": [
    "#cv2.imshow(\"src\",img)\n",
    "#cv2.imshow(\"Smaller_nearest\",img1)\n",
    "#cv2.imshow(\"Smaller_linear\",img2)\n",
    "cv2.imshow(\"Bigger_neraest\",img3)\n",
    "cv2.imshow(\"Bigger_linear\",img4)\n",
    "cv2.imshow(\"Bigger_CUBIC\",img5)\n",
    "cv2.waitKey(0)\n",
    "cv2.destroyAllWindows()"
   ]
  },
  {
   "cell_type": "code",
   "execution_count": null,
   "metadata": {},
   "outputs": [],
   "source": []
  }
 ],
 "metadata": {
  "kernelspec": {
   "display_name": "Python 3",
   "language": "python",
   "name": "python3"
  },
  "language_info": {
   "codemirror_mode": {
    "name": "ipython",
    "version": 3
   },
   "file_extension": ".py",
   "mimetype": "text/x-python",
   "name": "python",
   "nbconvert_exporter": "python",
   "pygments_lexer": "ipython3",
   "version": "3.6.10"
  }
 },
 "nbformat": 4,
 "nbformat_minor": 2
}
